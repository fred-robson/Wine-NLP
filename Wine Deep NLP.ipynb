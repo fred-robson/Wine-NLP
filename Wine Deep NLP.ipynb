{
 "cells": [
  {
   "cell_type": "markdown",
   "metadata": {},
   "source": [
    "# Analyzing Data\n",
    "\n",
    "We will need to clean and format our data for training. By getting some statistics and visualization for our data we will do a better job of accounting for missing data and augmenting existing features for training."
   ]
  },
  {
   "cell_type": "code",
   "execution_count": null,
   "metadata": {},
   "outputs": [],
   "source": [
    "wine_utils = du.DataHelper()\n",
    "wine_data = wine_utils.load_data()"
   ]
  },
  {
   "cell_type": "code",
   "execution_count": null,
   "metadata": {},
   "outputs": [],
   "source": [
    "train_df = wine_data[0]\n",
    "train_df"
   ]
  },
  {
   "cell_type": "code",
   "execution_count": null,
   "metadata": {},
   "outputs": [],
   "source": [
    "for feature in train_df:\n",
    "    total_entries =  len(train_df[feature])\n",
    "    Num_Nan = train_df[feature].isnull().sum()\n",
    "    print(\"Feature: {0} | Percent of NaN {1}\".format(feature, float(Num_Nan)/float(total_entries)))"
   ]
  },
  {
   "cell_type": "markdown",
   "metadata": {},
   "source": [
    "# Load Data and Embeddings"
   ]
  },
  {
   "cell_type": "code",
   "execution_count": 1,
   "metadata": {},
   "outputs": [
    {
     "name": "stderr",
     "output_type": "stream",
     "text": [
      "947it [00:00, 9467.73it/s]"
     ]
    },
    {
     "name": "stdout",
     "output_type": "stream",
     "text": [
      "Loading Glove Embeddings:  /Users/LorenAC/AI/CS224N/FinalProjectRepo/Wine-NLP/embeddings/glove.42B.300d.txt\n"
     ]
    },
    {
     "name": "stderr",
     "output_type": "stream",
     "text": [
      "1917494it [03:20, 9586.14it/s]"
     ]
    },
    {
     "name": "stdout",
     "output_type": "stream",
     "text": [
      "Done. 1917495  words loaded!\n"
     ]
    },
    {
     "name": "stderr",
     "output_type": "stream",
     "text": [
      "\n"
     ]
    }
   ],
   "source": [
    "from lstm import RNNModel, Config, pad_sequences\n",
    "import embeddings as emb\n",
    "import tensorflow as tf\n",
    "import data_utils as du\n",
    "import pandas as pd\n",
    "\n",
    "emb_helper = emb.embedding_helper(save_to_pickle = False)"
   ]
  },
  {
   "cell_type": "code",
   "execution_count": 2,
   "metadata": {},
   "outputs": [],
   "source": [
    "data_helper = du.DataHelper(1000)\n",
    "\n",
    "X_train_df, X_dev_df = data_helper.X_train, data_helper.X_dev\n",
    "label_helper_points = data_helper.labels_from_Y_cat(\"points\")"
   ]
  },
  {
   "cell_type": "markdown",
   "metadata": {},
   "source": [
    "# Get sub-embeddings for our given vocab\n",
    "\n",
    "If we dont do this the embedding matrix may be too large too give to tensorflow graph"
   ]
  },
  {
   "cell_type": "code",
   "execution_count": 3,
   "metadata": {},
   "outputs": [
    {
     "name": "stderr",
     "output_type": "stream",
     "text": [
      "100%|██████████| 7925/7925 [00:00<00:00, 127435.86it/s]"
     ]
    },
    {
     "name": "stdout",
     "output_type": "stream",
     "text": [
      "Done. 7594  words loaded!\n"
     ]
    },
    {
     "name": "stderr",
     "output_type": "stream",
     "text": [
      "\n"
     ]
    }
   ],
   "source": [
    "vocab, _ = data_helper.generate_vocab_and_word_frequencies() \n",
    "sub_emb_matrix, sub_tok2ind,sub_ind2tok, sub_unk_ind = emb_helper.get_sub_embeddings(vocab)"
   ]
  },
  {
   "cell_type": "markdown",
   "metadata": {},
   "source": [
    "# Get our data ready for model preprocessing\n",
    "\n",
    "This includes:\n",
    "\n",
    "    1) encoding the words in our sentences as indices in the embedding matrix\n",
    "    \n",
    "    2) mapping labels into classes and getting into proper format\n",
    "    \n",
    "(here we use our label_helper which keeps track of the mapping between a label's value from dataset and its corresponding class number for training...this helper also stores the number of classes for the label which we will later pass to our model config)"
   ]
  },
  {
   "cell_type": "code",
   "execution_count": 4,
   "metadata": {},
   "outputs": [],
   "source": [
    "import numpy as np\n",
    "import time\n",
    "\n",
    "X_train_tokens = X_train_df.as_matrix()\n",
    "X_dev_tokens = X_dev_df.as_matrix()\n",
    "\n",
    "X_train_indices = emb_helper.tok2ind_ind2tok(X_train_tokens, lookup_dict = sub_tok2ind, unk_indice = sub_unk_ind)\n",
    "X_dev_indices = emb_helper.tok2ind_ind2tok(X_dev_tokens, lookup_dict = sub_tok2ind, unk_indice = sub_unk_ind)\n",
    "\n",
    "train_raw = [X_train_indices, label_helper_points.train_classes]\n",
    "dev_raw = [X_dev_indices, label_helper_points.dev_classes]"
   ]
  },
  {
   "cell_type": "markdown",
   "metadata": {},
   "source": [
    "# Build and Run Model\n",
    "\n",
    "This step includes:\n",
    "\n",
    "    1) initializing our Config, Model\n",
    "\n",
    "    2) preprocessing data further using model parameters\n",
    "\n",
    "    3) opening our tensorflow Graph and Session"
   ]
  },
  {
   "cell_type": "code",
   "execution_count": 5,
   "metadata": {
    "scrolled": true
   },
   "outputs": [
    {
     "name": "stdout",
     "output_type": "stream",
     "text": [
      "Building model...\n"
     ]
    },
    {
     "name": "stderr",
     "output_type": "stream",
     "text": [
      "/Users/LorenAC/.local/share/virtualenvs/Wine-NLP-es1iefU8/lib/python3.6/site-packages/tensorflow/python/ops/gradients_impl.py:97: UserWarning: Converting sparse IndexedSlices to a dense Tensor of unknown shape. This may consume a large amount of memory.\n",
      "  \"Converting sparse IndexedSlices to a dense Tensor of unknown shape. \"\n"
     ]
    },
    {
     "name": "stdout",
     "output_type": "stream",
     "text": [
      "took %.2f seconds 2.034195899963379\n",
      "Epoch %d out of %d 1 30\n",
      "Loss:  2.6435738\n",
      "\n",
      "32/32 [==============================] - 39s    \n",
      "32/32 [==============================] - 38s    \n",
      "Accuracy | Train: %f , Dev: %f (0.128, 0.127)\n",
      "New best accuracy! Saving model in %s results/lstm/20180315_013407/model.weights\n",
      "Epoch %d out of %d 2 30\n",
      "Loss:  2.5478263\n",
      "\n",
      "32/32 [==============================] - 38s    \n",
      "32/32 [==============================] - 39s    \n",
      "Accuracy | Train: %f , Dev: %f (0.129, 0.127)\n",
      "Epoch %d out of %d 3 30\n",
      "Loss:  2.460935\n",
      "\n",
      "32/32 [==============================] - 43s    \n",
      "32/32 [==============================] - 42s    \n",
      "Accuracy | Train: %f , Dev: %f (0.205, 0.185)\n",
      "New best accuracy! Saving model in %s results/lstm/20180315_013407/model.weights\n",
      "Epoch %d out of %d 4 30\n",
      "Loss:  2.3776398\n",
      "\n",
      "32/32 [==============================] - 39s    \n",
      "32/32 [==============================] - 42s    \n",
      "Accuracy | Train: %f , Dev: %f (0.178, 0.139)\n",
      "Epoch %d out of %d 5 30\n",
      "Loss:  2.296639\n",
      "\n",
      "32/32 [==============================] - 39s    \n",
      "32/32 [==============================] - 39s    \n",
      "Accuracy | Train: %f , Dev: %f (0.262, 0.144)\n",
      "Epoch %d out of %d 6 30\n",
      "Loss:  2.158554\n",
      "\n",
      "32/32 [==============================] - 42s    \n",
      "32/32 [==============================] - 45s    \n",
      "Accuracy | Train: %f , Dev: %f (0.326, 0.167)\n",
      "Epoch %d out of %d 7 30\n",
      "Loss:  2.0125046\n",
      "\n",
      "32/32 [==============================] - 43s    \n",
      "32/32 [==============================] - 41s    \n",
      "Accuracy | Train: %f , Dev: %f (0.344, 0.152)\n",
      "Epoch %d out of %d 8 30\n",
      "Loss:  1.873337\n",
      "\n",
      "32/32 [==============================] - 43s    \n",
      "32/32 [==============================] - 43s    \n",
      "Accuracy | Train: %f , Dev: %f (0.334, 0.15)\n",
      "Epoch %d out of %d 9 30\n",
      "Loss:  1.7302176\n",
      "\n",
      "32/32 [==============================] - 44s    \n",
      "32/32 [==============================] - 43s    \n",
      "Accuracy | Train: %f , Dev: %f (0.412, 0.166)\n",
      "Epoch %d out of %d 10 30\n",
      "Loss:  1.6316868\n",
      "\n",
      "32/32 [==============================] - 55s    \n",
      "32/32 [==============================] - 60s    \n",
      "Accuracy | Train: %f , Dev: %f (0.554, 0.164)\n",
      "Epoch %d out of %d 11 30\n",
      "Loss:  1.4840318\n",
      "\n",
      "32/32 [==============================] - 45s    \n",
      "32/32 [==============================] - 49s    \n",
      "Accuracy | Train: %f , Dev: %f (0.692, 0.179)\n",
      "Epoch %d out of %d 12 30\n",
      "Loss:  1.3348956\n",
      "\n",
      "32/32 [==============================] - 46s    \n",
      "32/32 [==============================] - 38s    \n",
      "Accuracy | Train: %f , Dev: %f (0.661, 0.166)\n",
      "Epoch %d out of %d 13 30\n",
      "Loss:  1.197786\n",
      "\n",
      "32/32 [==============================] - 48s    \n",
      "32/32 [==============================] - 52s    \n",
      "Accuracy | Train: %f , Dev: %f (0.815, 0.162)\n",
      "Epoch %d out of %d 14 30\n",
      "Loss:  1.0339855\n",
      "\n",
      "32/32 [==============================] - 49s    \n",
      "32/32 [==============================] - 49s    \n",
      "Accuracy | Train: %f , Dev: %f (0.765, 0.15)\n",
      "Epoch %d out of %d 15 30\n",
      "Loss:  0.8693996\n",
      "\n",
      "32/32 [==============================] - 51s    \n",
      "32/32 [==============================] - 50s    \n",
      "Accuracy | Train: %f , Dev: %f (0.867, 0.162)\n",
      "Epoch %d out of %d 16 30\n",
      "Loss:  0.7315871\n",
      "\n",
      "32/32 [==============================] - 50s    \n",
      "32/32 [==============================] - 52s    \n",
      "Accuracy | Train: %f , Dev: %f (0.927, 0.167)\n",
      "Epoch %d out of %d 17 30\n",
      "Loss:  0.6110561\n",
      "\n",
      "32/32 [==============================] - 49s    \n",
      "32/32 [==============================] - 52s    \n",
      "Accuracy | Train: %f , Dev: %f (0.923, 0.159)\n",
      "Epoch %d out of %d 18 30\n",
      "Loss:  0.49372593\n",
      "\n",
      "32/32 [==============================] - 50s    \n",
      "32/32 [==============================] - 50s    \n",
      "Accuracy | Train: %f , Dev: %f (0.96, 0.152)\n",
      "Epoch %d out of %d 19 30\n",
      "Loss:  0.40608418\n",
      "\n",
      "32/32 [==============================] - 53s    \n",
      "32/32 [==============================] - 972s    \n",
      "Accuracy | Train: %f , Dev: %f (0.94, 0.154)\n",
      "Epoch %d out of %d 20 30\n",
      "Loss:  0.37309304\n",
      "\n",
      "32/32 [==============================] - 3743s    \n",
      "32/32 [==============================] - 52s    \n",
      "Accuracy | Train: %f , Dev: %f (0.972, 0.148)\n",
      "Epoch %d out of %d 21 30\n",
      "Loss:  0.35086825\n",
      "\n",
      "32/32 [==============================] - 50s    \n",
      "32/32 [==============================] - 52s    \n",
      "Accuracy | Train: %f , Dev: %f (0.949, 0.154)\n",
      "Epoch %d out of %d 22 30\n",
      "Loss:  0.45485443\n",
      "\n",
      "32/32 [==============================] - 50s    \n",
      "32/32 [==============================] - 52s    \n",
      "Accuracy | Train: %f , Dev: %f (0.984, 0.151)\n",
      "Epoch %d out of %d 23 30\n",
      "Loss:  0.30668283\n",
      "\n",
      "32/32 [==============================] - 51s    \n",
      "32/32 [==============================] - 50s    \n",
      "Accuracy | Train: %f , Dev: %f (0.939, 0.131)\n",
      "Epoch %d out of %d 24 30\n",
      "Loss:  0.41800547\n",
      "\n",
      "32/32 [==============================] - 55s    \n",
      "32/32 [==============================] - 53s    \n",
      "Accuracy | Train: %f , Dev: %f (0.987, 0.142)\n",
      "Epoch %d out of %d 25 30\n",
      "Loss:  0.2870773\n",
      "\n",
      "32/32 [==============================] - 54s    \n",
      "32/32 [==============================] - 53s    \n",
      "Accuracy | Train: %f , Dev: %f (0.998, 0.145)\n",
      "Epoch %d out of %d 26 30\n",
      "Loss:  0.23876381\n",
      "\n",
      "32/32 [==============================] - 53s    \n",
      "32/32 [==============================] - 53s    \n",
      "Accuracy | Train: %f , Dev: %f (0.985, 0.145)\n",
      "Epoch %d out of %d 27 30\n",
      "Loss:  0.26715735\n",
      "\n",
      "32/32 [==============================] - 48s    \n",
      "32/32 [==============================] - 49s    \n",
      "Accuracy | Train: %f , Dev: %f (0.991, 0.155)\n",
      "Epoch %d out of %d 28 30\n",
      "Loss:  0.21772745\n",
      "\n",
      "32/32 [==============================] - 48s    \n",
      "32/32 [==============================] - 50s    \n",
      "Accuracy | Train: %f , Dev: %f (0.998, 0.156)\n",
      "Epoch %d out of %d 29 30\n",
      "Loss:  0.20742926\n",
      "\n",
      "32/32 [==============================] - 49s    \n",
      "32/32 [==============================] - 48s    \n",
      "Accuracy | Train: %f , Dev: %f (0.994, 0.142)\n",
      "Epoch %d out of %d 30 30\n",
      "Loss:  0.22103074\n",
      "\n",
      "32/32 [==============================] - 50s    \n",
      "32/32 [==============================] - 50s    \n",
      "Accuracy | Train: %f , Dev: %f (0.998, 0.137)\n",
      "32/32 [==============================] - 50s    \n"
     ]
    },
    {
     "ename": "IndexError",
     "evalue": "list index out of range",
     "output_type": "error",
     "traceback": [
      "\u001b[0;31m---------------------------------------------------------------------------\u001b[0m",
      "\u001b[0;31mIndexError\u001b[0m                                Traceback (most recent call last)",
      "\u001b[0;32m<ipython-input-5-bb8724b02d8b>\u001b[0m in \u001b[0;36m<module>\u001b[0;34m()\u001b[0m\n\u001b[1;32m     30\u001b[0m         \u001b[0;32mwith\u001b[0m \u001b[0mopen\u001b[0m\u001b[0;34m(\u001b[0m\u001b[0mmodel\u001b[0m\u001b[0;34m.\u001b[0m\u001b[0mconfig\u001b[0m\u001b[0;34m.\u001b[0m\u001b[0meval_output\u001b[0m\u001b[0;34m,\u001b[0m \u001b[0;34m'w'\u001b[0m\u001b[0;34m)\u001b[0m \u001b[0;32mas\u001b[0m \u001b[0mf\u001b[0m\u001b[0;34m:\u001b[0m\u001b[0;34m\u001b[0m\u001b[0m\n\u001b[1;32m     31\u001b[0m             \u001b[0;32mfor\u001b[0m \u001b[0msentence\u001b[0m\u001b[0;34m,\u001b[0m \u001b[0mlabel\u001b[0m\u001b[0;34m,\u001b[0m \u001b[0mprediction\u001b[0m \u001b[0;32min\u001b[0m \u001b[0moutput\u001b[0m\u001b[0;34m:\u001b[0m\u001b[0;34m\u001b[0m\u001b[0m\n\u001b[0;32m---> 32\u001b[0;31m                 \u001b[0mprint_sentence\u001b[0m\u001b[0;34m(\u001b[0m\u001b[0mf\u001b[0m\u001b[0;34m,\u001b[0m \u001b[0msentence\u001b[0m\u001b[0;34m,\u001b[0m \u001b[0mlabel\u001b[0m\u001b[0;34m,\u001b[0m \u001b[0mprediction\u001b[0m\u001b[0;34m)\u001b[0m\u001b[0;34m\u001b[0m\u001b[0m\n\u001b[0m\u001b[1;32m     33\u001b[0m \u001b[0;34m\u001b[0m\u001b[0m\n",
      "\u001b[0;32m~/AI/CS224N/FinalProjectRepo/Wine-NLP/util.py\u001b[0m in \u001b[0;36mprint_sentence\u001b[0;34m(output, sentence, labels, predictions)\u001b[0m\n\u001b[1;32m     47\u001b[0m     \u001b[0;31m# print(\"labels length: \", len(labels))\u001b[0m\u001b[0;34m\u001b[0m\u001b[0;34m\u001b[0m\u001b[0m\n\u001b[1;32m     48\u001b[0m     \u001b[0;31m# print(\"preds length: \", len(predictions))\u001b[0m\u001b[0;34m\u001b[0m\u001b[0;34m\u001b[0m\u001b[0m\n\u001b[0;32m---> 49\u001b[0;31m     \u001b[0mspacings\u001b[0m \u001b[0;34m=\u001b[0m \u001b[0;34m[\u001b[0m\u001b[0mmax\u001b[0m\u001b[0;34m(\u001b[0m\u001b[0mlen\u001b[0m\u001b[0;34m(\u001b[0m\u001b[0msentence\u001b[0m\u001b[0;34m[\u001b[0m\u001b[0mi\u001b[0m\u001b[0;34m]\u001b[0m\u001b[0;34m)\u001b[0m\u001b[0;34m,\u001b[0m \u001b[0mlen\u001b[0m\u001b[0;34m(\u001b[0m\u001b[0mlabels\u001b[0m\u001b[0;34m[\u001b[0m\u001b[0mi\u001b[0m\u001b[0;34m]\u001b[0m\u001b[0;34m)\u001b[0m\u001b[0;34m,\u001b[0m \u001b[0mlen\u001b[0m\u001b[0;34m(\u001b[0m\u001b[0mpredictions\u001b[0m\u001b[0;34m[\u001b[0m\u001b[0mi\u001b[0m\u001b[0;34m]\u001b[0m\u001b[0;34m)\u001b[0m\u001b[0;34m)\u001b[0m \u001b[0;32mfor\u001b[0m \u001b[0mi\u001b[0m \u001b[0;32min\u001b[0m \u001b[0mrange\u001b[0m\u001b[0;34m(\u001b[0m\u001b[0mlen\u001b[0m\u001b[0;34m(\u001b[0m\u001b[0msentence\u001b[0m\u001b[0;34m)\u001b[0m\u001b[0;34m)\u001b[0m\u001b[0;34m]\u001b[0m\u001b[0;34m\u001b[0m\u001b[0m\n\u001b[0m\u001b[1;32m     50\u001b[0m     \u001b[0;31m# Compute the word spacing\u001b[0m\u001b[0;34m\u001b[0m\u001b[0;34m\u001b[0m\u001b[0m\n\u001b[1;32m     51\u001b[0m     \u001b[0moutput\u001b[0m\u001b[0;34m.\u001b[0m\u001b[0mwrite\u001b[0m\u001b[0;34m(\u001b[0m\u001b[0;34m\"x : \"\u001b[0m\u001b[0;34m)\u001b[0m\u001b[0;34m\u001b[0m\u001b[0m\n",
      "\u001b[0;32m~/AI/CS224N/FinalProjectRepo/Wine-NLP/util.py\u001b[0m in \u001b[0;36m<listcomp>\u001b[0;34m(.0)\u001b[0m\n\u001b[1;32m     47\u001b[0m     \u001b[0;31m# print(\"labels length: \", len(labels))\u001b[0m\u001b[0;34m\u001b[0m\u001b[0;34m\u001b[0m\u001b[0m\n\u001b[1;32m     48\u001b[0m     \u001b[0;31m# print(\"preds length: \", len(predictions))\u001b[0m\u001b[0;34m\u001b[0m\u001b[0;34m\u001b[0m\u001b[0m\n\u001b[0;32m---> 49\u001b[0;31m     \u001b[0mspacings\u001b[0m \u001b[0;34m=\u001b[0m \u001b[0;34m[\u001b[0m\u001b[0mmax\u001b[0m\u001b[0;34m(\u001b[0m\u001b[0mlen\u001b[0m\u001b[0;34m(\u001b[0m\u001b[0msentence\u001b[0m\u001b[0;34m[\u001b[0m\u001b[0mi\u001b[0m\u001b[0;34m]\u001b[0m\u001b[0;34m)\u001b[0m\u001b[0;34m,\u001b[0m \u001b[0mlen\u001b[0m\u001b[0;34m(\u001b[0m\u001b[0mlabels\u001b[0m\u001b[0;34m[\u001b[0m\u001b[0mi\u001b[0m\u001b[0;34m]\u001b[0m\u001b[0;34m)\u001b[0m\u001b[0;34m,\u001b[0m \u001b[0mlen\u001b[0m\u001b[0;34m(\u001b[0m\u001b[0mpredictions\u001b[0m\u001b[0;34m[\u001b[0m\u001b[0mi\u001b[0m\u001b[0;34m]\u001b[0m\u001b[0;34m)\u001b[0m\u001b[0;34m)\u001b[0m \u001b[0;32mfor\u001b[0m \u001b[0mi\u001b[0m \u001b[0;32min\u001b[0m \u001b[0mrange\u001b[0m\u001b[0;34m(\u001b[0m\u001b[0mlen\u001b[0m\u001b[0;34m(\u001b[0m\u001b[0msentence\u001b[0m\u001b[0;34m)\u001b[0m\u001b[0;34m)\u001b[0m\u001b[0;34m]\u001b[0m\u001b[0;34m\u001b[0m\u001b[0m\n\u001b[0m\u001b[1;32m     50\u001b[0m     \u001b[0;31m# Compute the word spacing\u001b[0m\u001b[0;34m\u001b[0m\u001b[0;34m\u001b[0m\u001b[0m\n\u001b[1;32m     51\u001b[0m     \u001b[0moutput\u001b[0m\u001b[0;34m.\u001b[0m\u001b[0mwrite\u001b[0m\u001b[0;34m(\u001b[0m\u001b[0;34m\"x : \"\u001b[0m\u001b[0;34m)\u001b[0m\u001b[0;34m\u001b[0m\u001b[0m\n",
      "\u001b[0;31mIndexError\u001b[0m: list index out of range"
     ]
    }
   ],
   "source": [
    "from util import write_conll, print_sentence\n",
    "\n",
    "config = Config(\"lstm\", n_classes = label_helper_points.num_classes, many2one = True)\n",
    "embeddings = sub_emb_matrix\n",
    "embeddings = np.asarray(embeddings)\n",
    "config.embed_size = embeddings.shape[1]\n",
    "\n",
    "with tf.Graph().as_default():\n",
    "    print(\"Building model...\",)\n",
    "    start = time.time()\n",
    "    model = RNNModel(data_helper, config, embeddings)\n",
    "    print(\"took %.2f seconds\", time.time() - start)\n",
    "    \n",
    "    init = tf.global_variables_initializer()\n",
    "    saver = tf.train.Saver()\n",
    "\n",
    "    with tf.Session() as session:\n",
    "        session.run(init)\n",
    "        model.fit(session, saver, train_raw, dev_raw)\n",
    "        output = model.output(session, dev_raw)\n",
    "        sentences, class_labels, predictions = zip(*output)\n",
    "        predictions = [[str(label_helper_points.class_2_lbl[cls]) for cls in preds] for preds in predictions]\n",
    "        labels = [[str(label_helper_points.class_2_lbl[cls]) for cls in classes] for classes in class_labels]\n",
    "        label_results = zip(labels, predictions)\n",
    "        sentences = emb_helper.tok2ind_ind2tok(sentences, lookup_dict = sub_ind2tok, unk_indice = sub_unk_ind)\n",
    "        output = zip(sentences, labels, predictions)\n",
    "        \n",
    "        #with open(model.config.conll_output, 'w') as f:\n",
    "        #    write_conll(f, output)\n",
    "        with open(model.config.eval_output, 'w') as f:\n",
    "            for sentence, label, prediction in output:\n",
    "                print_sentence(f, sentence, label, prediction)\n",
    "                "
   ]
  },
  {
   "cell_type": "code",
   "execution_count": null,
   "metadata": {},
   "outputs": [],
   "source": [
    "dev_raw"
   ]
  },
  {
   "cell_type": "markdown",
   "metadata": {},
   "source": [
    "# Define General Model for Running in TensorFlow"
   ]
  },
  {
   "cell_type": "code",
   "execution_count": null,
   "metadata": {},
   "outputs": [],
   "source": [
    "def do_evaluate(args):\n",
    "    config = Config(args)\n",
    "    helper = ModelHelper.load(args.model_path)\n",
    "    input_data = read_conll(args.data)\n",
    "    embeddings = load_embeddings(args, helper)\n",
    "    config.embed_size = embeddings.shape[1]\n",
    "\n",
    "    with tf.Graph().as_default():\n",
    "        logger.info(\"Building model...\",)\n",
    "        start = time.time()\n",
    "        model = RNNModel(helper, config, embeddings)\n",
    "\n",
    "        logger.info(\"took %.2f seconds\", time.time() - start)\n",
    "\n",
    "        init = tf.global_variables_initializer()\n",
    "        saver = tf.train.Saver()\n",
    "\n",
    "        with tf.Session() as session:\n",
    "            session.run(init)\n",
    "            saver.restore(session, model.config.model_output)\n",
    "            for sentence, labels, predictions in model.output(session, input_data):\n",
    "                predictions = [LBLS[l] for l in predictions]\n",
    "                print_sentence(args.output, sentence, labels, predictions)"
   ]
  },
  {
   "cell_type": "code",
   "execution_count": null,
   "metadata": {},
   "outputs": [],
   "source": [
    "x = [[3], [5], [5]]\n",
    "y = [5]\n",
    "x = np.asarray(x)\n",
    "x = x + [y]*4\n",
    "#np.expand_dims(x, 2).shape\n",
    "x"
   ]
  },
  {
   "cell_type": "code",
   "execution_count": null,
   "metadata": {},
   "outputs": [],
   "source": [
    "X_train"
   ]
  },
  {
   "cell_type": "code",
   "execution_count": 13,
   "metadata": {},
   "outputs": [
    {
     "data": {
      "text/plain": [
       "array([[86],\n",
       "       [ 1]])"
      ]
     },
     "execution_count": 13,
     "metadata": {},
     "output_type": "execute_result"
    }
   ],
   "source": [
    "x = [86, 1]\n",
    "np.expand_dims(x,1)"
   ]
  },
  {
   "cell_type": "code",
   "execution_count": 119,
   "metadata": {},
   "outputs": [],
   "source": [
    "import numpy as np\n",
    "ex = np.array([[[0, 1, 2], [1, 5, 6], [2, 3, 2]], [[3, 3, 4], [4, 4, 3], [5, 1, 2]]])\n",
    "labels = np.array([[0], [3]])\n",
    "mask = np.array([[True, True, False], [True, True, False]])"
   ]
  },
  {
   "cell_type": "code",
   "execution_count": 120,
   "metadata": {},
   "outputs": [
    {
     "name": "stdout",
     "output_type": "stream",
     "text": [
      "(2, 3, 3) (2, 1)\n"
     ]
    }
   ],
   "source": [
    "print(ex.shape, labels.shape)"
   ]
  },
  {
   "cell_type": "code",
   "execution_count": 121,
   "metadata": {},
   "outputs": [],
   "source": [
    "ex_masked = ex[mask]\n",
    "#lab_masked = labels[mask]"
   ]
  },
  {
   "cell_type": "code",
   "execution_count": 124,
   "metadata": {},
   "outputs": [
    {
     "name": "stdout",
     "output_type": "stream",
     "text": [
      "[[[0 1 2]\n",
      "  [1 5 6]\n",
      "  [2 3 2]]\n",
      "\n",
      " [[3 3 4]\n",
      "  [4 4 3]\n",
      "  [5 1 2]]] [[0 1 2]\n",
      " [1 5 6]\n",
      " [3 3 4]\n",
      " [4 4 3]]\n"
     ]
    }
   ],
   "source": [
    "print(ex, ex_masked)"
   ]
  },
  {
   "cell_type": "code",
   "execution_count": 125,
   "metadata": {},
   "outputs": [
    {
     "name": "stdout",
     "output_type": "stream",
     "text": [
      "(4, 3) (2, 1)\n"
     ]
    }
   ],
   "source": [
    "print(ex_masked.shape, labels.shape)"
   ]
  },
  {
   "cell_type": "code",
   "execution_count": 118,
   "metadata": {},
   "outputs": [],
   "source": [
    "y = y==0"
   ]
  },
  {
   "cell_type": "code",
   "execution_count": 67,
   "metadata": {},
   "outputs": [
    {
     "data": {
      "text/plain": [
       "array([[ True,  True,  True,  True,  True,  True,  True, False, False,\n",
       "        False],\n",
       "       [ True,  True,  True,  True,  True,  True,  True, False, False,\n",
       "        False],\n",
       "       [ True,  True,  True,  True,  True,  True,  True, False, False,\n",
       "        False]])"
      ]
     },
     "execution_count": 67,
     "metadata": {},
     "output_type": "execute_result"
    }
   ],
   "source": [
    "y"
   ]
  },
  {
   "cell_type": "code",
   "execution_count": 68,
   "metadata": {},
   "outputs": [],
   "source": [
    "x = x[y]"
   ]
  },
  {
   "cell_type": "code",
   "execution_count": 69,
   "metadata": {},
   "outputs": [
    {
     "data": {
      "text/plain": [
       "(21, 5)"
      ]
     },
     "execution_count": 69,
     "metadata": {},
     "output_type": "execute_result"
    }
   ],
   "source": [
    "x.shape"
   ]
  },
  {
   "cell_type": "code",
   "execution_count": 70,
   "metadata": {},
   "outputs": [
    {
     "data": {
      "text/plain": [
       "array([[[3., 3., 3., 3., 3.],\n",
       "        [3., 3., 3., 3., 3.],\n",
       "        [3., 3., 3., 3., 3.],\n",
       "        [3., 3., 3., 3., 3.],\n",
       "        [3., 3., 3., 3., 3.],\n",
       "        [3., 3., 3., 3., 3.],\n",
       "        [0., 0., 0., 0., 0.]],\n",
       "\n",
       "       [[3., 3., 3., 3., 3.],\n",
       "        [3., 3., 3., 3., 3.],\n",
       "        [3., 3., 3., 3., 3.],\n",
       "        [3., 3., 3., 3., 3.],\n",
       "        [3., 3., 3., 3., 3.],\n",
       "        [3., 3., 3., 3., 3.],\n",
       "        [0., 0., 0., 0., 0.]],\n",
       "\n",
       "       [[3., 3., 3., 3., 3.],\n",
       "        [3., 3., 3., 3., 3.],\n",
       "        [3., 3., 3., 3., 3.],\n",
       "        [3., 3., 3., 3., 3.],\n",
       "        [3., 3., 3., 3., 3.],\n",
       "        [3., 3., 3., 3., 3.],\n",
       "        [0., 0., 0., 0., 0.]]])"
      ]
     },
     "execution_count": 70,
     "metadata": {},
     "output_type": "execute_result"
    }
   ],
   "source": [
    "np.reshape(x, (3, -1, 5))"
   ]
  },
  {
   "cell_type": "code",
   "execution_count": null,
   "metadata": {},
   "outputs": [],
   "source": []
  }
 ],
 "metadata": {
  "kernelspec": {
   "display_name": "Python 3",
   "language": "python",
   "name": "python3"
  },
  "language_info": {
   "codemirror_mode": {
    "name": "ipython",
    "version": 3
   },
   "file_extension": ".py",
   "mimetype": "text/x-python",
   "name": "python",
   "nbconvert_exporter": "python",
   "pygments_lexer": "ipython3",
   "version": "3.6.4"
  }
 },
 "nbformat": 4,
 "nbformat_minor": 2
}
