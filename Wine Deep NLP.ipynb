{
 "cells": [
  {
   "cell_type": "markdown",
   "metadata": {},
   "source": [
    "# Analyzing Data\n",
    "\n",
    "We will need to clean and format our data for training. By getting some statistics and visualization for our data we will do a better job of accounting for missing data and augmenting existing features for training."
   ]
  },
  {
   "cell_type": "code",
   "execution_count": null,
   "metadata": {},
   "outputs": [],
   "source": [
    "wine_utils = du.DataHelper()\n",
    "wine_data = wine_utils.load_data()"
   ]
  },
  {
   "cell_type": "code",
   "execution_count": null,
   "metadata": {},
   "outputs": [],
   "source": [
    "train_df = wine_data[0]\n",
    "train_df"
   ]
  },
  {
   "cell_type": "code",
   "execution_count": null,
   "metadata": {},
   "outputs": [],
   "source": [
    "for feature in train_df:\n",
    "    total_entries =  len(train_df[feature])\n",
    "    Num_Nan = train_df[feature].isnull().sum()\n",
    "    print(\"Feature: {0} | Percent of NaN {1}\".format(feature, float(Num_Nan)/float(total_entries)))"
   ]
  },
  {
   "cell_type": "markdown",
   "metadata": {},
   "source": [
    "# Load Data and Embeddings"
   ]
  },
  {
   "cell_type": "code",
   "execution_count": null,
   "metadata": {},
   "outputs": [],
   "source": [
    "from lstm import RNNModel, Config, pad_sequences\n",
    "import embeddings as emb\n",
    "import tensorflow as tf\n",
    "import data_utils as du\n",
    "import pandas as pd\n",
    "\n",
    "emb_helper = emb.embedding_helper(save_to_pickle = False, test_batch = 10000)"
   ]
  },
  {
   "cell_type": "code",
   "execution_count": null,
   "metadata": {},
   "outputs": [],
   "source": [
    "data_helper = du.DataHelper(1000)\n",
    "\n",
    "X_train_df, X_dev_df = data_helper.X_train, data_helper.X_dev\n",
    "label_helper_points = data_helper.labels_from_Y_cat(\"points\")"
   ]
  },
  {
   "cell_type": "markdown",
   "metadata": {},
   "source": [
    "# Get sub-embeddings for our given vocab\n",
    "\n",
    "If we dont do this the embedding matrix may be too large too give to tensorflow graph"
   ]
  },
  {
   "cell_type": "code",
   "execution_count": null,
   "metadata": {},
   "outputs": [],
   "source": [
    "vocab, _ = data_helper.generate_vocab_and_word_frequencies() \n",
    "sub_emb_matrix, sub_tok2ind,sub_ind2tok, sub_unk_ind = emb_helper.get_sub_embeddings(vocab)"
   ]
  },
  {
   "cell_type": "markdown",
   "metadata": {},
   "source": [
    "# Get our data ready for model preprocessing\n",
    "\n",
    "This includes:\n",
    "\n",
    "    1) encoding the words in our sentences as indices in the embedding matrix\n",
    "    \n",
    "    2) mapping labels into classes and getting into proper format\n",
    "    \n",
    "(here we use our label_helper which keeps track of the mapping between a label's value from dataset and its corresponding class number for training...this helper also stores the number of classes for the label which we will later pass to our model config)"
   ]
  },
  {
   "cell_type": "code",
   "execution_count": null,
   "metadata": {},
   "outputs": [],
   "source": [
    "import numpy as np\n",
    "import time\n",
    "\n",
    "X_train_tokens = X_train_df.as_matrix()\n",
    "X_dev_tokens = X_dev_df.as_matrix()\n",
    "\n",
    "X_train_indices = emb_helper.tok2ind_ind2tok(X_train_tokens, lookup_dict = sub_tok2ind, unk_indice = sub_unk_ind)\n",
    "X_dev_indices = emb_helper.tok2ind_ind2tok(X_dev_tokens, lookup_dict = sub_tok2ind, unk_indice = sub_unk_ind)\n",
    "\n",
    "train_raw = [X_train_indices, label_helper_points.train_classes]\n",
    "dev_raw = [X_dev_indices, label_helper_points.dev_classes]"
   ]
  },
  {
   "cell_type": "markdown",
   "metadata": {},
   "source": [
    "# Build and Run Model\n",
    "\n",
    "This step includes:\n",
    "\n",
    "    1) initializing our Config, Model\n",
    "\n",
    "    2) preprocessing data further using model parameters\n",
    "\n",
    "    3) opening our tensorflow Graph and Session"
   ]
  },
  {
   "cell_type": "code",
   "execution_count": null,
   "metadata": {
    "scrolled": false
   },
   "outputs": [],
   "source": [
    "from util import write_conll, print_sentence\n",
    "\n",
    "config = Config(\"lstm\", n_classes = label_helper_points.num_classes, many2one = True)\n",
    "embeddings = sub_emb_matrix\n",
    "embeddings = np.asarray(embeddings)\n",
    "config.embed_size = embeddings.shape[1]\n",
    "\n",
    "with tf.Graph().as_default():\n",
    "    print(\"Building model...\",)\n",
    "    start = time.time()\n",
    "    model = RNNModel(data_helper, config, embeddings)\n",
    "    print(\"took %.2f seconds\", time.time() - start)\n",
    "    \n",
    "    init = tf.global_variables_initializer()\n",
    "    saver = tf.train.Saver()\n",
    "\n",
    "    with tf.Session() as session:\n",
    "        session.run(init)\n",
    "        model.fit(session, saver, train_raw, dev_raw)\n",
    "        output = model.output(session, dev_raw)\n",
    "        sentences, class_labels, predictions = zip(*output)\n",
    "        predictions = [[str(label_helper_points.class_2_lbl[cls]) for cls in preds] for preds in predictions]\n",
    "        labels = [[str(label_helper_points.class_2_lbl[cls]) for cls in classes] for classes in class_labels]\n",
    "        label_results = zip(labels, predictions)\n",
    "        sentences = emb_helper.tok2ind_ind2tok(sentences, lookup_dict = sub_ind2tok, unk_indice = sub_unk_ind)\n",
    "        output = zip(sentences, labels, predictions)\n",
    "        \n",
    "        #with open(model.config.conll_output, 'w') as f:\n",
    "        #    write_conll(f, output)\n",
    "        #with open(model.config.eval_output, 'w') as f:\n",
    "        #    for sentence, label, prediction in output:\n",
    "        #        print_sentence(f, sentence, label, prediction)\n",
    "                "
   ]
  },
  {
   "cell_type": "markdown",
   "metadata": {},
   "source": [
    "# Define General Model for Running in TensorFlow"
   ]
  },
  {
   "cell_type": "code",
   "execution_count": null,
   "metadata": {},
   "outputs": [],
   "source": [
    "def do_evaluate(args):\n",
    "    config = Config(args)\n",
    "    helper = ModelHelper.load(args.model_path)\n",
    "    input_data = read_conll(args.data)\n",
    "    embeddings = load_embeddings(args, helper)\n",
    "    config.embed_size = embeddings.shape[1]\n",
    "\n",
    "    with tf.Graph().as_default():\n",
    "        logger.info(\"Building model...\",)\n",
    "        start = time.time()\n",
    "        model = RNNModel(helper, config, embeddings)\n",
    "\n",
    "        logger.info(\"took %.2f seconds\", time.time() - start)\n",
    "\n",
    "        init = tf.global_variables_initializer()\n",
    "        saver = tf.train.Saver()\n",
    "\n",
    "        with tf.Session() as session:\n",
    "            session.run(init)\n",
    "            saver.restore(session, model.config.model_output)\n",
    "            for sentence, labels, predictions in model.output(session, input_data):\n",
    "                predictions = [LBLS[l] for l in predictions]\n",
    "                print_sentence(args.output, sentence, labels, predictions)"
   ]
  },
  {
   "cell_type": "code",
   "execution_count": null,
   "metadata": {},
   "outputs": [],
   "source": [
    "x = [[3], [5], [5]]\n",
    "y = [5]\n",
    "x = np.asarray(x)\n",
    "x = x + [y]*4\n",
    "#np.expand_dims(x, 2).shape\n",
    "x"
   ]
  },
  {
   "cell_type": "code",
   "execution_count": null,
   "metadata": {},
   "outputs": [],
   "source": [
    "X_train"
   ]
  },
  {
   "cell_type": "code",
   "execution_count": null,
   "metadata": {},
   "outputs": [],
   "source": [
    "x = [86, 1]\n",
    "np.expand_dims(x,1)"
   ]
  },
  {
   "cell_type": "code",
   "execution_count": null,
   "metadata": {},
   "outputs": [],
   "source": [
    "import numpy as np\n",
    "ex = np.array([[[0, 1, 2], [1, 5, 6], [2, 3, 2]], [[3, 3, 4], [4, 4, 3], [5, 1, 2]]])\n",
    "labels = np.array([[0], [3]])\n",
    "mask = np.array([[True, True, False], [True, True, False]])"
   ]
  },
  {
   "cell_type": "code",
   "execution_count": null,
   "metadata": {},
   "outputs": [],
   "source": [
    "print(ex.shape, labels.shape)"
   ]
  },
  {
   "cell_type": "code",
   "execution_count": null,
   "metadata": {},
   "outputs": [],
   "source": [
    "ex_masked = ex[mask]\n",
    "#lab_masked = labels[mask]"
   ]
  },
  {
   "cell_type": "code",
   "execution_count": null,
   "metadata": {},
   "outputs": [],
   "source": [
    "print(ex, ex_masked)"
   ]
  },
  {
   "cell_type": "code",
   "execution_count": null,
   "metadata": {},
   "outputs": [],
   "source": [
    "print(ex_masked.shape, labels.shape)"
   ]
  },
  {
   "cell_type": "code",
   "execution_count": null,
   "metadata": {},
   "outputs": [],
   "source": [
    "y = y==0"
   ]
  },
  {
   "cell_type": "code",
   "execution_count": null,
   "metadata": {},
   "outputs": [],
   "source": [
    "y"
   ]
  },
  {
   "cell_type": "code",
   "execution_count": null,
   "metadata": {},
   "outputs": [],
   "source": [
    "x = x[y]"
   ]
  },
  {
   "cell_type": "code",
   "execution_count": null,
   "metadata": {},
   "outputs": [],
   "source": [
    "x.shape"
   ]
  },
  {
   "cell_type": "code",
   "execution_count": null,
   "metadata": {},
   "outputs": [],
   "source": [
    "np.reshape(x, (3, -1, 5))"
   ]
  },
  {
   "cell_type": "code",
   "execution_count": null,
   "metadata": {},
   "outputs": [],
   "source": []
  }
 ],
 "metadata": {
  "kernelspec": {
   "display_name": "Python 3",
   "language": "python",
   "name": "python3"
  },
  "language_info": {
   "codemirror_mode": {
    "name": "ipython",
    "version": 3
   },
   "file_extension": ".py",
   "mimetype": "text/x-python",
   "name": "python",
   "nbconvert_exporter": "python",
   "pygments_lexer": "ipython3",
   "version": "3.6.4"
  }
 },
 "nbformat": 4,
 "nbformat_minor": 2
}
